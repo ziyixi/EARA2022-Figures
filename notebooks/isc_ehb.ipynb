{
 "cells": [
  {
   "cell_type": "code",
   "execution_count": 2,
   "metadata": {},
   "outputs": [],
   "source": [
    "import pandas as pd\n",
    "import numpy as np\n",
    "from pathlib import Path"
   ]
  },
  {
   "cell_type": "code",
   "execution_count": 12,
   "metadata": {},
   "outputs": [],
   "source": [
    "all_files=Path(\"../eara2022/data/isc_ehb/\").glob(\"*.hdf\")\n",
    "col_widths=[29,7,8,6,101,6]\n",
    "\n",
    "all_data=[]\n",
    "for each_file in all_files:\n",
    "    data = pd.read_fwf(each_file, widths=col_widths, names=[\"dummy1\",\"lat\",\"lon\",\"dep\",\"dummy2\",\"id\"], header=None)\n",
    "    data.drop(columns=[\"dummy1\",\"dummy2\"], inplace=True)\n",
    "    all_data.append(data)\n",
    "\n",
    "all_data=pd.concat(all_data)"
   ]
  },
  {
   "cell_type": "code",
   "execution_count": 14,
   "metadata": {},
   "outputs": [],
   "source": [
    "all_data.to_csv(\"../eara2022/data/isc_ehb/isc_ehb.csv\", index=False)"
   ]
  },
  {
   "cell_type": "code",
   "execution_count": null,
   "metadata": {},
   "outputs": [],
   "source": []
  }
 ],
 "metadata": {
  "kernelspec": {
   "display_name": "eara2022-DDpzkyxP-py3.9",
   "language": "python",
   "name": "python3"
  },
  "language_info": {
   "codemirror_mode": {
    "name": "ipython",
    "version": 3
   },
   "file_extension": ".py",
   "mimetype": "text/x-python",
   "name": "python",
   "nbconvert_exporter": "python",
   "pygments_lexer": "ipython3",
   "version": "3.9.13"
  },
  "orig_nbformat": 4
 },
 "nbformat": 4,
 "nbformat_minor": 2
}
